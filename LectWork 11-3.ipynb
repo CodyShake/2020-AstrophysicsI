{
 "cells": [
  {
   "cell_type": "code",
   "execution_count": 2,
   "metadata": {},
   "outputs": [],
   "source": [
    "# cgs unit, length unit is cm, mass unit is gram, time unit is second\n",
    "import numpy as np\n",
    "\n",
    "sigmacont=5.67051e-5\n",
    "acont=7.5657e-15\n",
    "ev=1.602e-12\n",
    "hcont=6.625e-27\n",
    "ccont=3.e10\n",
    "kcont=1.381e-16\n",
    "rcont=8.314472e7\n",
    "me=9.109e-28\n",
    "Gcont=6.67e-8\n",
    "Msun=1.989e33\n",
    "Mearth=5.972e27\n",
    "Mjupiter=1.898e30\n",
    "Lsun=3.827e33\n",
    "rsun=6.96e10\n",
    "rjupiter=7.149e9\n",
    "rearth=6.371e8\n",
    "au=1.49598e13\n",
    "pc=3.085678e18\n",
    "mh=1.67352e-24\n",
    "yr=365.*24.*3600\n",
    "pi=3.1415926"
   ]
  },
  {
   "cell_type": "code",
   "execution_count": 1,
   "metadata": {},
   "outputs": [],
   "source": [
    "# What is the mean free path of stars in the MW?"
   ]
  },
  {
   "cell_type": "markdown",
   "metadata": {},
   "source": [
    "For one collision: $ln_*\\sigma_{eff}=1 \\Rightarrow l=\\frac{1}{n_*\\sigma_{eff}}$"
   ]
  },
  {
   "cell_type": "markdown",
   "metadata": {},
   "source": [
    "In the Milky Way, $n_*\\approx 1 pc^{-3}$ and we'll say $M_*=M_\\odot$"
   ]
  },
  {
   "cell_type": "code",
   "execution_count": 6,
   "metadata": {},
   "outputs": [
    {
     "name": "stdout",
     "output_type": "stream",
     "text": [
      "655776784269.5404 pc\n"
     ]
    }
   ],
   "source": [
    "sigma=pi*(rsun)**2*(1+((2*Gcont*Msun/rsun)**(1/2)/2000000)**2)\n",
    "l=pc**3/(sigma)\n",
    "print(l/pc,'pc')"
   ]
  },
  {
   "cell_type": "code",
   "execution_count": null,
   "metadata": {},
   "outputs": [],
   "source": []
  }
 ],
 "metadata": {
  "kernelspec": {
   "display_name": "Python 3",
   "language": "python",
   "name": "python3"
  },
  "language_info": {
   "codemirror_mode": {
    "name": "ipython",
    "version": 3
   },
   "file_extension": ".py",
   "mimetype": "text/x-python",
   "name": "python",
   "nbconvert_exporter": "python",
   "pygments_lexer": "ipython3",
   "version": "3.6.9"
  }
 },
 "nbformat": 4,
 "nbformat_minor": 2
}
