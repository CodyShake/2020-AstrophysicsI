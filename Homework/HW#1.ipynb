{
 "cells": [
  {
   "cell_type": "markdown",
   "metadata": {},
   "source": [
    "# Ast713: HW #1 by Cody Shakespeare"
   ]
  },
  {
   "cell_type": "markdown",
   "metadata": {},
   "source": [
    " "
   ]
  },
  {
   "cell_type": "markdown",
   "metadata": {},
   "source": [
    "### Chapter 1: Problem 2"
   ]
  },
  {
   "cell_type": "markdown",
   "metadata": {},
   "source": [
    "#### a)"
   ]
  },
  {
   "cell_type": "markdown",
   "metadata": {},
   "source": [
    "The noise is the square root of the $\\textbf{total number}$ of photons."
   ]
  },
  {
   "cell_type": "markdown",
   "metadata": {},
   "source": [
    "S/N $=\\frac{Signal}{Noise}=\\frac{N_{star}}{\\sqrt{N_{star}+N_{sky}}}= \\frac{N_{star}}{\\sqrt{N_{star}+n_{sky} \\pi R^{2}}} $"
   ]
  },
  {
   "cell_type": "markdown",
   "metadata": {},
   "source": [
    "$\\textbf{So, S/N } \\mathbf{=\\frac{N_{star}}{\\sqrt{N_{star}+n_{sky} \\boldsymbol{\\pi} R^{2}}}}$"
   ]
  },
  {
   "cell_type": "markdown",
   "metadata": {},
   "source": [
    " "
   ]
  },
  {
   "cell_type": "markdown",
   "metadata": {},
   "source": [
    "#### b)"
   ]
  },
  {
   "cell_type": "markdown",
   "metadata": {},
   "source": [
    "$D_2 = 10 D_1 , R_2=\\frac{1}{3} R_1$"
   ]
  },
  {
   "cell_type": "markdown",
   "metadata": {},
   "source": [
    "$\\mathbf{n_{sky}}$ is the number of photons from the sky per CCD pixel. Thus, with a smaller effect from \"seeing,\" the area of pixels the star occupies is decreased and less photons from the sky will interfere."
   ]
  },
  {
   "cell_type": "markdown",
   "metadata": {},
   "source": [
    "S/N $=\\frac{Signal}{Noise}=\\frac{N_{star} (\\frac{D_2}{D_1})^2}{\\sqrt{N_{star}(\\frac{D_2}{D_1})^2+N_{sky}}}= \\frac{100 N_{star}}{\\sqrt{100 N_{star}+n_{sky} \\pi (\\frac{R_2}{R_1})^{2}}} = \\frac{100 N_{star}}{\\sqrt{100 N_{star}+n_{sky} \\frac{\\pi}{9} R_1^{2}}} $"
   ]
  },
  {
   "cell_type": "markdown",
   "metadata": {},
   "source": [
    "$\\textbf{Now,  S/N } \\mathbf{=\\frac{100 N_{star}}{\\sqrt{100 N_{star}+n_{sky} \\frac{\\boldsymbol{\\pi}}{9} R_1^{2}}}}$"
   ]
  },
  {
   "cell_type": "markdown",
   "metadata": {},
   "source": [
    " "
   ]
  },
  {
   "cell_type": "markdown",
   "metadata": {},
   "source": [
    "#### c)"
   ]
  },
  {
   "cell_type": "markdown",
   "metadata": {},
   "source": [
    "In the first case, $N_{star}>>N_{sky}$ So, $N_{photons} \\approx N_{star}$"
   ]
  },
  {
   "cell_type": "markdown",
   "metadata": {},
   "source": [
    "Thus, S/N $\\approx \\sqrt{N_{star}} = \\sqrt{\\frac{f_{star} \\pi (\\frac{D}{2})^2}{h <\\nu>_{star}}t} \\Rightarrow$ $\\textbf{S/N}$ $\\mathbf{ \\propto \\sqrt{t}}$"
   ]
  },
  {
   "cell_type": "markdown",
   "metadata": {},
   "source": [
    "In the second case, $N_{sky}>>N_{star}$ So, $N_{photons} \\approx N_{sky}$"
   ]
  },
  {
   "cell_type": "markdown",
   "metadata": {},
   "source": [
    "Now, S/N $\\approx \\frac{N_{star}}{\\sqrt{N_{sky}}} = \\frac{\\frac{f_{star} \\pi (\\frac{D}{2})^2}{h <\\nu>_{star}}t}{\\sqrt{\\frac{f_{sky} \\pi (\\frac{D}{2})^2}{h <\\nu>_{sky}}t}} = \\frac{t}{\\sqrt{t}} \\Rightarrow$ $\\textbf{S/N}$ $\\mathbf{ \\propto \\sqrt{t}}$"
   ]
  },
  {
   "cell_type": "markdown",
   "metadata": {},
   "source": [
    "Thus, in both cases, $\\textbf{S/N}$ $\\mathbf{ \\propto \\sqrt{t}}$"
   ]
  },
  {
   "cell_type": "markdown",
   "metadata": {},
   "source": [
    " "
   ]
  },
  {
   "cell_type": "markdown",
   "metadata": {},
   "source": [
    "#### d)"
   ]
  },
  {
   "cell_type": "markdown",
   "metadata": {},
   "source": [
    "When $N_{star}>>N_{sky}$"
   ]
  },
  {
   "cell_type": "markdown",
   "metadata": {},
   "source": [
    "S/N $\\propto \\sqrt{D_1^2 t} \\Rightarrow \\sqrt{D_1^2 t_1} = \\sqrt{D_2^2 t_2} \\mathbf{ \\Rightarrow t_1 = 100 t_2}$"
   ]
  },
  {
   "cell_type": "markdown",
   "metadata": {},
   "source": [
    "When $N_{sky}>>N_{star}$"
   ]
  },
  {
   "cell_type": "markdown",
   "metadata": {},
   "source": [
    "$S/N_1 \\propto \\sqrt{D_1^2 t_1}$"
   ]
  },
  {
   "cell_type": "markdown",
   "metadata": {},
   "source": [
    "$S/N_2 \\propto \\frac{D_2^2 t_2}{\\sqrt{D_2^2 t_2 (\\frac{R_2}{R_1})^2}} = \\sqrt{D_2^2 t_2}  \\frac{1}{\\frac{R_2}{R_1}}  \\Rightarrow \\sqrt{D_1^2 t_1} = \\sqrt{D_2^2 t_2}  \\frac{1}{\\frac{R_2}{R_1}} \\Rightarrow \\sqrt{t_1} = 10 \\sqrt{t_2} \\frac{1}{\\frac{1}{3}} \\Rightarrow \\mathbf{t_1 = 900 t_2}$"
   ]
  },
  {
   "cell_type": "markdown",
   "metadata": {},
   "source": [
    " "
   ]
  },
  {
   "cell_type": "markdown",
   "metadata": {},
   "source": [
    "### Chapter 2: Problem 1"
   ]
  },
  {
   "cell_type": "markdown",
   "metadata": {},
   "source": [
    "#### a)"
   ]
  },
  {
   "cell_type": "markdown",
   "metadata": {},
   "source": [
    "The Sun's flux just above the Earth's atmosphere is:"
   ]
  },
  {
   "cell_type": "markdown",
   "metadata": {},
   "source": [
    "$f(d_\\odot) = \\frac{L_\\odot}{4 \\pi d_\\odot^2}$"
   ]
  },
  {
   "cell_type": "markdown",
   "metadata": {},
   "source": [
    "The Sun's flux at the solar photosphere is:"
   ]
  },
  {
   "cell_type": "markdown",
   "metadata": {},
   "source": [
    "$f(d_{photo}) = \\frac{L_\\odot}{4 \\pi R_\\odot^2}$"
   ]
  },
  {
   "cell_type": "markdown",
   "metadata": {},
   "source": [
    "Now, the solid angle subtended by the Sun is:"
   ]
  },
  {
   "cell_type": "markdown",
   "metadata": {},
   "source": [
    "$\\Omega_\\odot = \\frac{Area}{d_\\odot^2} = \\frac{\\pi R_\\odot^2}{d_\\odot^2}$"
   ]
  },
  {
   "cell_type": "markdown",
   "metadata": {},
   "source": [
    "So, $Area = \\pi R_\\odot^2= d_\\odot^2 \\Omega_\\odot$ and $f(d_{photo}) = \\frac{L_\\odot}{4 \\pi R_\\odot^2} \\Rightarrow \\mathbf{f(d_{photo}) = \\frac{L_\\odot}{4 d_\\odot^2 \\Omega_\\odot}}$"
   ]
  },
  {
   "cell_type": "markdown",
   "metadata": {},
   "source": [
    "$f(d_\\odot) = \\frac{L_\\odot}{4 \\pi d_\\odot^2} \\Rightarrow \\mathbf{\\pi \\textbf{ } f(d_\\odot) = \\frac{L_\\odot}{4 d_\\odot^2}}$"
   ]
  },
  {
   "cell_type": "markdown",
   "metadata": {},
   "source": [
    "Substituting $\\frac{L_\\odot}{4 d_\\odot^2}$ in $f(d_{photo})$ yeilds our solution:"
   ]
  },
  {
   "cell_type": "markdown",
   "metadata": {},
   "source": [
    "$\\mathbf{f(d_{photo}) = \\frac{\\pi \\textbf{ } f(d_\\odot)}{\\Omega_\\odot}}$"
   ]
  },
  {
   "cell_type": "markdown",
   "metadata": {},
   "source": [
    " "
   ]
  },
  {
   "cell_type": "markdown",
   "metadata": {},
   "source": [
    "#### b)"
   ]
  },
  {
   "cell_type": "markdown",
   "metadata": {},
   "source": [
    "The solid angle of the Sun is: $\\Omega_\\odot = \\frac{Area}{d_\\odot^2} = \\pi (\\frac{R_\\odot}{d_\\odot})^2 = \\pi \\theta_{radians}^2$"
   ]
  },
  {
   "cell_type": "markdown",
   "metadata": {},
   "source": [
    "$\\theta_{radians}=\\theta_{deg} \\frac{\\pi}{180^{\\circ}} \\Rightarrow \\theta_{radians} \\approx 0.01$"
   ]
  },
  {
   "cell_type": "markdown",
   "metadata": {},
   "source": [
    "Thus, $\\Omega_\\odot=\\pi \\theta_{radians}^2 \\Rightarrow \\mathbf{\\Omega_\\odot \\approx 7.77 \\times 10^{-5}}$"
   ]
  },
  {
   "cell_type": "markdown",
   "metadata": {},
   "source": [
    " "
   ]
  },
  {
   "cell_type": "markdown",
   "metadata": {},
   "source": [
    "#### c)"
   ]
  },
  {
   "cell_type": "markdown",
   "metadata": {},
   "source": [
    "The Stefan-Boltzmann Law is : $f=\\sigma T^4$"
   ]
  },
  {
   "cell_type": "markdown",
   "metadata": {},
   "source": [
    "Using the final solution to part a), we have:"
   ]
  },
  {
   "cell_type": "markdown",
   "metadata": {},
   "source": [
    "$f(d_{photo})=\\frac{\\pi f(d_\\odot)}{\\Omega_\\odot}=\\sigma T_\\odot^4 \\Rightarrow \\mathbf{T_\\odot = \\left( \\frac{\\boldsymbol{\\pi} f(d_\\odot)}{\\boldsymbol{\\sigma} \\Omega_\\odot} \\right)^{\\frac{1}{4}}}$"
   ]
  },
  {
   "cell_type": "markdown",
   "metadata": {},
   "source": [
    "Using this equation, we calculate the Sun's surface temperature as: $\\mathbf{T_\\odot=5600K}$"
   ]
  },
  {
   "cell_type": "markdown",
   "metadata": {},
   "source": [
    " "
   ]
  },
  {
   "cell_type": "markdown",
   "metadata": {},
   "source": [
    "#### d)"
   ]
  },
  {
   "cell_type": "markdown",
   "metadata": {},
   "source": [
    "To calculate the Sun's flux at the Earth for a specific wavelength, we'll use the Rayleigh-Jeans approximation for $\\frac{hc}{\\lambda} << kT_\\odot$"
   ]
  },
  {
   "cell_type": "markdown",
   "metadata": {},
   "source": [
    "Thus, the flux per unit wavelength at Earth is: $f_\\lambda = B_{\\lambda} \\frac{Area}{d_\\odot^2} = B_{\\lambda} \\Omega_\\odot$"
   ]
  },
  {
   "cell_type": "markdown",
   "metadata": {},
   "source": [
    "And, $B_\\lambda \\approx 2ckT_\\odot \\lambda^{-4} \\Rightarrow f_\\lambda =2ckT_\\odot \\lambda^{-4} \\Omega_\\odot$"
   ]
  },
  {
   "cell_type": "markdown",
   "metadata": {},
   "source": [
    "Solving for temperature yields: $\\mathbf{T_\\odot = \\frac{\\boldsymbol{\\lambda}^4 f_\\lambda}{2ck \\Omega_\\odot} \\textbf{  when  } \\frac{hc}{\\boldsymbol{\\lambda}}<<kT_\\odot}$"
   ]
  }
 ],
 "metadata": {
  "celltoolbar": "Raw Cell Format",
  "kernelspec": {
   "display_name": "Python 3",
   "language": "python",
   "name": "python3"
  },
  "language_info": {
   "codemirror_mode": {
    "name": "ipython",
    "version": 3
   },
   "file_extension": ".py",
   "mimetype": "text/x-python",
   "name": "python",
   "nbconvert_exporter": "python",
   "pygments_lexer": "ipython3",
   "version": "3.6.7"
  }
 },
 "nbformat": 4,
 "nbformat_minor": 4
}
