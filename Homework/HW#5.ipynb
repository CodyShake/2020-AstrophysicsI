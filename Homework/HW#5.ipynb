{
 "cells": [
  {
   "cell_type": "markdown",
   "metadata": {},
   "source": [
    "# Ast713: HW #4 by Cody Shakespeare"
   ]
  },
  {
   "cell_type": "markdown",
   "metadata": {},
   "source": [
    " "
   ]
  },
  {
   "cell_type": "markdown",
   "metadata": {},
   "source": [
    "## Chapter 4: Problem #4"
   ]
  },
  {
   "cell_type": "markdown",
   "metadata": {},
   "source": [
    "### Problem 1:"
   ]
  },
  {
   "cell_type": "markdown",
   "metadata": {},
   "source": [
    "#### a)"
   ]
  },
  {
   "cell_type": "markdown",
   "metadata": {},
   "source": [
    "The Virial Theorem states: $<P>=\\frac{1}{3}\\frac{E_g}{V}$"
   ]
  },
  {
   "cell_type": "markdown",
   "metadata": {},
   "source": [
    "If we assume $\\rho \\approx$const. then, $E_g=\\frac{3GM^2}{5R} \\Rightarrow <P>=\\frac{GM^2}{5RV} \\textbf{      (Eq'n A1)}$"
   ]
  },
  {
   "cell_type": "markdown",
   "metadata": {},
   "source": [
    "Inserting the equation for volume, our answer is: $\\boxed{<P>=\\frac{3G}{20\\pi}\\frac{M^2}{R^4}}$"
   ]
  },
  {
   "cell_type": "markdown",
   "metadata": {},
   "source": [
    " "
   ]
  },
  {
   "cell_type": "markdown",
   "metadata": {},
   "source": [
    "#### b)"
   ]
  },
  {
   "cell_type": "markdown",
   "metadata": {},
   "source": [
    "From the text, $v_s \\approx \\sqrt{\\frac{<P>}{\\rho}}$"
   ]
  },
  {
   "cell_type": "markdown",
   "metadata": {},
   "source": [
    "Given that $\\rho=\\frac{M}{V}$, and using Equation A1 for $<P>$,"
   ]
  },
  {
   "cell_type": "markdown",
   "metadata": {},
   "source": [
    "$v_s \\approx \\sqrt{\\frac{<P>V}{M}}=\\sqrt{\\frac{GM^2V}{5MRV}} \\Rightarrow \\boxed{v_s \\approx \\sqrt{\\frac{GM}{5R}}}$ so $\\boxed{v_s \\approx 1.93 \\text{ km/s}}$"
   ]
  },
  {
   "cell_type": "markdown",
   "metadata": {},
   "source": [
    "The time for the nuclear \"flame\" to engulf the star is simply $t=\\frac{R}{v_s} \\Rightarrow t=\\sqrt{\\frac{5R^3}{GM}}\\approx (G\\rho)^{-1/2}$ which agrees with the results from the text. Then, $\\boxed{t \\approx 5.17 \\text{ s}}$"
   ]
  },
  {
   "cell_type": "markdown",
   "metadata": {},
   "source": [
    " "
   ]
  },
  {
   "cell_type": "markdown",
   "metadata": {},
   "source": [
    "#### c)"
   ]
  },
  {
   "cell_type": "markdown",
   "metadata": {},
   "source": [
    "Given a mass-to-energy conversion rate of $\\epsilon=0.1 \\text{%}$, the total energy released is: $E_{Tot}=Mc^2\\epsilon \\Rightarrow \\boxed{E_{Tot}=2.52*10^{51} \\text{ erg}}$"
   ]
  },
  {
   "cell_type": "markdown",
   "metadata": {},
   "source": [
    "The gravitational binding energy is: $E_g=\\frac{-3GM^2}{5R} \\Rightarrow E_g=3.14*10^{50} \\text{ erg}$. So, $\\boxed{E_{Tot}\\approx 8E_g}$"
   ]
  },
  {
   "cell_type": "markdown",
   "metadata": {},
   "source": [
    " "
   ]
  },
  {
   "cell_type": "markdown",
   "metadata": {},
   "source": [
    "#### d)"
   ]
  },
  {
   "cell_type": "markdown",
   "metadata": {},
   "source": [
    "The total optical energy conversion efficiency is $\\epsilon_{opt}=\\frac{55.942153-55.934941}{55.942153} \\Rightarrow \\epsilon_{opt} \\approx 0.013\\text{%}$"
   ]
  },
  {
   "cell_type": "markdown",
   "metadata": {},
   "source": [
    "Thus, $E_{opt}=Mc^2\\epsilon_{opt} \\Rightarrow \\boxed{E_{opt}=3.24*10^{50}\\text{ erg}}$"
   ]
  },
  {
   "cell_type": "markdown",
   "metadata": {},
   "source": [
    "If we assume that each of the two radioactive decays are about equal in their energy released, then:"
   ]
  },
  {
   "cell_type": "markdown",
   "metadata": {},
   "source": [
    "$L_{Co}\\approx \\frac{1.62*10^{50}\\text{ erg}}{8.8\\text{ days}}$ and $L_{Ni}\\approx \\frac{1.62*10^{50}\\text{ erg}}{111\\text{ days}}$"
   ]
  },
  {
   "cell_type": "markdown",
   "metadata": {},
   "source": [
    " "
   ]
  },
  {
   "cell_type": "markdown",
   "metadata": {},
   "source": [
    "So, $L_{Co}=2.13*10^{44}\\text{ erg/s} \\Rightarrow \\boxed{L_{Co}\\approx5.5*10^{10} L_\\odot}$"
   ]
  },
  {
   "cell_type": "markdown",
   "metadata": {},
   "source": [
    "and, $L_{Ni}=1.69*10^{43}\\text{ erg/s} \\Rightarrow \\boxed{L_{Ni}\\approx4.4*10^{9} L_\\odot}$"
   ]
  },
  {
   "cell_type": "markdown",
   "metadata": {},
   "source": [
    "Thus, $10^{10} L_\\odot$ is indeed a typical luminosity for a type-Ia supernova."
   ]
  },
  {
   "cell_type": "markdown",
   "metadata": {},
   "source": [
    " "
   ]
  },
  {
   "cell_type": "markdown",
   "metadata": {},
   "source": [
    "#### e)"
   ]
  },
  {
   "cell_type": "markdown",
   "metadata": {},
   "source": [
    "Following the hint: $t=\\frac{R^2}{lc}$ and $l=(\\kappa \\rho)^{-1}=\\left(\\kappa \\frac{M}{\\frac{4}{3}\\pi R^3}\\right)^{-1}$"
   ]
  },
  {
   "cell_type": "markdown",
   "metadata": {},
   "source": [
    "Since the shell is expanding, $R=vt$ so, $l=\\left(\\frac{3\\kappa M}{4\\pi v^3t^3}\\right)^{-1}$"
   ]
  },
  {
   "cell_type": "markdown",
   "metadata": {},
   "source": [
    "Putting these together we have $t=\\frac{R^2}{lc} \\Rightarrow t=\\frac{v^2t^2}{c}\\frac{3\\kappa M}{4\\pi v^3t^3} \\Rightarrow \\boxed{t=\\sqrt{\\frac{3\\kappa M}{4\\pi cv}}} \\Rightarrow \\boxed{t\\approx30\\text{ days}}$"
   ]
  },
  {
   "cell_type": "markdown",
   "metadata": {},
   "source": [
    "*(I noticed that multiplying $4\\pi cv$ by 3 produces $17.2\\text{ days}$ which is closer to the text's solution, although I'm not sure where that factor of 3 comes from.)*"
   ]
  },
  {
   "cell_type": "markdown",
   "metadata": {},
   "source": [
    " "
   ]
  }
 ],
 "metadata": {
  "celltoolbar": "Raw Cell Format",
  "kernelspec": {
   "display_name": "Python 3",
   "language": "python",
   "name": "python3"
  },
  "language_info": {
   "codemirror_mode": {
    "name": "ipython",
    "version": 3
   },
   "file_extension": ".py",
   "mimetype": "text/x-python",
   "name": "python",
   "nbconvert_exporter": "python",
   "pygments_lexer": "ipython3",
   "version": "3.6.7"
  }
 },
 "nbformat": 4,
 "nbformat_minor": 4
}
