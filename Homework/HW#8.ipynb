{
 "cells": [
  {
   "cell_type": "markdown",
   "metadata": {},
   "source": [
    "# Ast713: HW #8 by Cody Shakespeare"
   ]
  },
  {
   "cell_type": "markdown",
   "metadata": {},
   "source": [
    " "
   ]
  },
  {
   "cell_type": "markdown",
   "metadata": {},
   "source": [
    "## Chapter 6: Problems #2a,3"
   ]
  },
  {
   "cell_type": "markdown",
   "metadata": {},
   "source": [
    " ### Problem 2a:"
   ]
  },
  {
   "cell_type": "markdown",
   "metadata": {},
   "source": [
    "First, taking note of the hint, $b=0$ so our equation becomes: $t_{dur}=\\frac{r_*\\tau}{\\pi a}$"
   ]
  },
  {
   "cell_type": "markdown",
   "metadata": {},
   "source": [
    "Using Kepler's 3rd Law: $\\tau^2 = \\frac{4\\pi^2a^3}{GM_*} \\Rightarrow a = \\sqrt[3]{\\frac{\\tau^2GM_*}{4\\pi^2}}$"
   ]
  },
  {
   "cell_type": "markdown",
   "metadata": {},
   "source": [
    "Now, substitute a into the previous equation: $t_{dur}=\\frac{\\tau}{\\pi}\\left(\\frac{4\\pi^2}{\\tau^2G}\\frac{r_*^3}{M_*}\\right)^{1/3}$"
   ]
  },
  {
   "cell_type": "markdown",
   "metadata": {},
   "source": [
    "Note that $\\rho_*=\\frac{M_*}{\\frac{4}{3}\\pi r_*^3} \\Rightarrow \\frac{r_*^3}{M_*}=\\frac{3}{4\\pi\\rho_*}$"
   ]
  },
  {
   "cell_type": "markdown",
   "metadata": {},
   "source": [
    "Now, subsititute $\\frac{r^3}{M}$ and do some simplification: $t_{dur}=\\sqrt[3]{\\frac{4\\tau}{\\pi G}\\frac{3}{4\\pi \\rho_*}}$"
   ]
  },
  {
   "cell_type": "markdown",
   "metadata": {},
   "source": [
    "Finally, solving for $\\rho_*$ produces the solution: $\\boxed{\\rho_*=\\frac{3\\tau}{G\\pi^2t_{dur}^3}}$"
   ]
  },
  {
   "cell_type": "markdown",
   "metadata": {},
   "source": [
    " "
   ]
  },
  {
   "cell_type": "markdown",
   "metadata": {},
   "source": [
    " ### Problem 3:"
   ]
  },
  {
   "cell_type": "markdown",
   "metadata": {},
   "source": [
    "Given that the lens is half-way to the source, and that the distance from the observer to the lens is $d$, the equation for the radius of the Einstein ring becomes: $\\theta_E=\\sqrt{\\frac{4GMd}{c^22d^2}} \\Rightarrow \\boxed{\\theta_E=\\sqrt{\\frac{2GM}{c^2d}}}$ "
   ]
  },
  {
   "cell_type": "markdown",
   "metadata": {},
   "source": [
    "A star with the solar radius at a distance $d$ will have the angular radius of $\\theta=\\frac{R_\\odot}{d}$"
   ]
  },
  {
   "cell_type": "markdown",
   "metadata": {},
   "source": [
    "So, $\\theta_E=\\frac{R_\\odot}{d}=\\sqrt{\\frac{2GM}{c^2d}} \\Rightarrow \\boxed{d=\\frac{c^2}{2GM_\\odot}R_\\odot^2}$"
   ]
  },
  {
   "cell_type": "markdown",
   "metadata": {},
   "source": [
    "Inserting the constants and values for the Sun: $\\mathbf{d=0.0053}\\textbf{pc}$"
   ]
  },
  {
   "cell_type": "markdown",
   "metadata": {},
   "source": [
    " "
   ]
  },
  {
   "cell_type": "markdown",
   "metadata": {},
   "source": [
    "## Chapter 7: Problem #4"
   ]
  },
  {
   "cell_type": "markdown",
   "metadata": {},
   "source": [
    " ### Problem 4:"
   ]
  },
  {
   "cell_type": "markdown",
   "metadata": {},
   "source": [
    "The problem is quite straightforward when following the hint: $N=n\\sigma d$ "
   ]
  },
  {
   "cell_type": "markdown",
   "metadata": {},
   "source": [
    "First, we find $n$: $n=\\frac{M}{<m>V}=\\frac{M}{<m>2h\\pi r^2} \\Rightarrow n\\approx 0.497 \\text{pc}^{-3}$"
   ]
  },
  {
   "cell_type": "markdown",
   "metadata": {},
   "source": [
    "The cross section is: $\\sigma=\\pi R^2=\\pi \\theta_E^2d^2$"
   ]
  },
  {
   "cell_type": "markdown",
   "metadata": {},
   "source": [
    "Since this also assumes the lensing object is halfway, with $d=4$kpc, I'll use the first part of my solution for problem 6.3:"
   ]
  },
  {
   "cell_type": "markdown",
   "metadata": {},
   "source": [
    "$\\theta_E=\\sqrt{\\frac{2GM}{c^2d}}$"
   ]
  },
  {
   "cell_type": "markdown",
   "metadata": {},
   "source": [
    "So, the cross-section is: $\\sigma=\\pi \\frac{2GM}{c^2}d \\Rightarrow \\sigma=6.04*10^{-10}\\text{pc}^2$"
   ]
  },
  {
   "cell_type": "markdown",
   "metadata": {},
   "source": [
    "Finally, inserting these values into $N=n\\sigma d$ produces: $\\boxed{N=2.4*10^{-6}}$"
   ]
  },
  {
   "cell_type": "markdown",
   "metadata": {},
   "source": [
    " "
   ]
  }
 ],
 "metadata": {
  "celltoolbar": "Raw Cell Format",
  "kernelspec": {
   "display_name": "Python 3",
   "language": "python",
   "name": "python3"
  },
  "language_info": {
   "codemirror_mode": {
    "name": "ipython",
    "version": 3
   },
   "file_extension": ".py",
   "mimetype": "text/x-python",
   "name": "python",
   "nbconvert_exporter": "python",
   "pygments_lexer": "ipython3",
   "version": "3.6.9"
  }
 },
 "nbformat": 4,
 "nbformat_minor": 4
}
