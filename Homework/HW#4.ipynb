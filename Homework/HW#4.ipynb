{
 "cells": [
  {
   "cell_type": "markdown",
   "metadata": {},
   "source": [
    "# Ast713: HW #4 by Cody Shakespeare"
   ]
  },
  {
   "cell_type": "markdown",
   "metadata": {},
   "source": [
    " "
   ]
  },
  {
   "cell_type": "markdown",
   "metadata": {},
   "source": [
    "## Chapter 4: Problems #1,2"
   ]
  },
  {
   "cell_type": "markdown",
   "metadata": {},
   "source": [
    "### Problem 1:"
   ]
  },
  {
   "cell_type": "markdown",
   "metadata": {},
   "source": [
    "#### a)"
   ]
  },
  {
   "cell_type": "markdown",
   "metadata": {},
   "source": [
    "First, we must solve the given equation for $p_F$:"
   ]
  },
  {
   "cell_type": "markdown",
   "metadata": {},
   "source": [
    "$n_e=\\frac{8 \\pi}{3 h^3}p_F^3 \\Rightarrow p_F=\\left(\\frac{3n_e h^3}{8\\pi}\\right)^{1/3}$"
   ]
  },
  {
   "cell_type": "markdown",
   "metadata": {},
   "source": [
    "Now, $p_F=\\sqrt{2m_eE_F}$ so, $\\left(\\frac{3n_e h^3}{8\\pi}\\right)^{2/3}=2m_eE_F \\Rightarrow \\boxed{E_F=\\frac{h^2}{2m_e}\\left(\\frac{3n_e}{8\\pi}\\right)^{2/3}}$"
   ]
  },
  {
   "cell_type": "markdown",
   "metadata": {},
   "source": [
    " "
   ]
  },
  {
   "cell_type": "markdown",
   "metadata": {},
   "source": [
    "#### b)"
   ]
  },
  {
   "cell_type": "markdown",
   "metadata": {},
   "source": [
    "For White Dwarfs, $\\frac{z}{A}\\approx \\frac{1}{2}$ so, $n_e=\\frac{\\rho}{2m_p}$."
   ]
  },
  {
   "cell_type": "markdown",
   "metadata": {},
   "source": [
    "In class, we said $\\rho \\approx 1 \\text{ Ton}/\\text{cm}^3$ which is $907\\text{ kg}/\\text{cm}^3$"
   ]
  },
  {
   "cell_type": "markdown",
   "metadata": {},
   "source": [
    "Thus, $E_F=2.4*10^{-7}$ erg and $E_{Th}=\\frac{3}{2}kT=2.1*10^{-9}$ erg. So, $\\boxed{\\frac{E_{Th}}{E_F}\\approx 0.0086}$"
   ]
  },
  {
   "cell_type": "markdown",
   "metadata": {},
   "source": [
    " "
   ]
  },
  {
   "cell_type": "markdown",
   "metadata": {},
   "source": [
    "### Problem 2:"
   ]
  },
  {
   "cell_type": "markdown",
   "metadata": {},
   "source": [
    "#### a)"
   ]
  },
  {
   "cell_type": "markdown",
   "metadata": {},
   "source": [
    "White Dwarf formation is constant: $\\frac{dN}{dt}=c$"
   ]
  },
  {
   "cell_type": "markdown",
   "metadata": {},
   "source": [
    "White Dwarf Luminosity: $L \\propto T^4 \\Rightarrow \\frac{dL}{dT} \\propto 4T^3$"
   ]
  },
  {
   "cell_type": "markdown",
   "metadata": {},
   "source": [
    "White Dwarf cooling: $\\frac{dT}{dt}\\propto T^4$"
   ]
  },
  {
   "cell_type": "markdown",
   "metadata": {},
   "source": [
    "Now, we need $\\frac{dN}{dL}$ which, by the chain rule, is: $\\frac{dN}{dL}=\\frac{dN}{dt}\\frac{dt}{dL}=\\frac{dN}{dt}\\left(\\frac{dL}{dt}\\right)^{-1}$"
   ]
  },
  {
   "cell_type": "markdown",
   "metadata": {},
   "source": [
    "We have $\\frac{dN}{dt}$ already. So, we need $\\frac{dL}{dt}$. This can also be found using the chain rule:"
   ]
  },
  {
   "cell_type": "markdown",
   "metadata": {},
   "source": [
    "$\\frac{dL}{dt}=\\frac{dL}{dT}\\frac{dT}{dt} \\Rightarrow \\frac{dL}{dt}\\propto 4T^3*T^4$"
   ]
  },
  {
   "cell_type": "markdown",
   "metadata": {},
   "source": [
    "We want this in terms of $L$ and $L\\propto T^4$ so: $\\mathbf{\\frac{dL}{dt} \\propto L^{7/4}}$"
   ]
  },
  {
   "cell_type": "markdown",
   "metadata": {},
   "source": [
    "Combine these results and we have: $\\frac{dN}{dL}=\\frac{dN}{dt}\\left(\\frac{dL}{dt}\\right)^{-1} \\propto cL^{-7/4} \\Rightarrow \\boxed{\\frac{dN}{dL}\\propto L^{-7/4}}$"
   ]
  },
  {
   "cell_type": "markdown",
   "metadata": {},
   "source": [
    " "
   ]
  },
  {
   "cell_type": "markdown",
   "metadata": {},
   "source": [
    "#### b)"
   ]
  },
  {
   "cell_type": "markdown",
   "metadata": {},
   "source": [
    "Using $T\\approx 4000$ K and $R_*\\approx 8500$ km, the low-end luminosity cut off of WD's for the age of the universe is:"
   ]
  },
  {
   "cell_type": "markdown",
   "metadata": {},
   "source": [
    "$L=4\\pi R_*^2 \\sigma T^4= 1.32*10^{22}$ Watts $\\Rightarrow \\boxed{L\\approx 3.47*10^{-5} L_\\odot}$"
   ]
  },
  {
   "cell_type": "markdown",
   "metadata": {},
   "source": [
    " "
   ]
  }
 ],
 "metadata": {
  "celltoolbar": "Raw Cell Format",
  "kernelspec": {
   "display_name": "Python 3",
   "language": "python",
   "name": "python3"
  },
  "language_info": {
   "codemirror_mode": {
    "name": "ipython",
    "version": 3
   },
   "file_extension": ".py",
   "mimetype": "text/x-python",
   "name": "python",
   "nbconvert_exporter": "python",
   "pygments_lexer": "ipython3",
   "version": "3.6.7"
  }
 },
 "nbformat": 4,
 "nbformat_minor": 4
}
