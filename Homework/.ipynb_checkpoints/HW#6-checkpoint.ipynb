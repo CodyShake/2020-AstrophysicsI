{
 "cells": [
  {
   "cell_type": "markdown",
   "metadata": {},
   "source": [
    "# Ast713: HW #6 by Cody Shakespeare"
   ]
  },
  {
   "cell_type": "markdown",
   "metadata": {},
   "source": [
    " "
   ]
  },
  {
   "cell_type": "markdown",
   "metadata": {},
   "source": [
    "## Chapter 4: Problem #10"
   ]
  },
  {
   "cell_type": "markdown",
   "metadata": {},
   "source": [
    "To find the maximum mass an astronaut could have and still float from radiation pressure, we need to find the radiation's force:"
   ]
  },
  {
   "cell_type": "markdown",
   "metadata": {},
   "source": [
    "$F_{rad}=\\frac{dp}{dt}$ and $p_{ph}=\\frac{h\\nu}{c}$"
   ]
  },
  {
   "cell_type": "markdown",
   "metadata": {},
   "source": [
    "So, $\\frac{dp}{dt}=R_{scatter}\\frac{h\\nu}{c}$ where $R$ is the rate of photon scattering $R=n_{ph}\\sigma c= n_{ph}2Ac$"
   ]
  },
  {
   "cell_type": "markdown",
   "metadata": {},
   "source": [
    "$n_{ph}=\\frac{f_{\\nu}}{cE_\\nu}=\\frac{L_\\nu}{4\\pi r^2ch\\nu}$"
   ]
  },
  {
   "cell_type": "markdown",
   "metadata": {},
   "source": [
    "Finally, combining these equations, we have $F_{rad}=\\frac{2AL_\\nu}{4\\pi r^2c}$. Integrated over all frequencies, $F_{rad}=\\frac{2AL}{4\\pi r^2c}$"
   ]
  },
  {
   "cell_type": "markdown",
   "metadata": {},
   "source": [
    "Now, equating this to the force of gravity: $F_{grav}=F_{rad} \\Rightarrow \\frac{2AL}{4\\pi r^2c}=\\frac{GMm}{r^2}$"
   ]
  },
  {
   "cell_type": "markdown",
   "metadata": {},
   "source": [
    "Solve for $m$ and substitue $L=L_o\\frac{M}{M_\\odot}$, $\\boxed{m=\\frac{2AL_o}{4\\pi cGM_\\odot}} \\Rightarrow \\boxed{\\mathbf{m=77.5} \\textbf{kg}}$"
   ]
  },
  {
   "cell_type": "markdown",
   "metadata": {},
   "source": [
    "Comparing $m$ to $m_p$ and $2A$ to $\\sigma_T$, $\\mathbf{m=4.64*10^{28}m_p}$ and $\\mathbf{2A=4.48*10^{28}\\sigma_T}$"
   ]
  },
  {
   "cell_type": "markdown",
   "metadata": {},
   "source": [
    "This makes sense as the ratio of the two must be $\\approx 1$ to satisfy the eddington luminosity."
   ]
  },
  {
   "cell_type": "markdown",
   "metadata": {},
   "source": [
    " "
   ]
  }
 ],
 "metadata": {
  "celltoolbar": "Raw Cell Format",
  "kernelspec": {
   "display_name": "Python 3",
   "language": "python",
   "name": "python3"
  },
  "language_info": {
   "codemirror_mode": {
    "name": "ipython",
    "version": 3
   },
   "file_extension": ".py",
   "mimetype": "text/x-python",
   "name": "python",
   "nbconvert_exporter": "python",
   "pygments_lexer": "ipython3",
   "version": "3.6.9"
  }
 },
 "nbformat": 4,
 "nbformat_minor": 4
}
