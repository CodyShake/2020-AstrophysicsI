{
 "cells": [
  {
   "cell_type": "markdown",
   "metadata": {},
   "source": [
    "# Ast713: HW #10 by Cody Shakespeare"
   ]
  },
  {
   "cell_type": "markdown",
   "metadata": {},
   "source": [
    " "
   ]
  },
  {
   "cell_type": "markdown",
   "metadata": {},
   "source": [
    "## Chapter 9: Problem #3"
   ]
  },
  {
   "cell_type": "markdown",
   "metadata": {},
   "source": [
    " ### Problem 3:"
   ]
  },
  {
   "cell_type": "markdown",
   "metadata": {},
   "source": [
    "### a)"
   ]
  },
  {
   "cell_type": "markdown",
   "metadata": {},
   "source": [
    "For $k=0$, $\\Omega_\\Lambda=1$ cosmology, $R(t)=R_oe^{H_ot}$"
   ]
  },
  {
   "cell_type": "markdown",
   "metadata": {},
   "source": [
    "For light curves: $ds^2=0=c^2dt^2-R(t)^2\\frac{dr^2}{1-kr^2} \\Rightarrow R_o^2e^{2H_ot}\\frac{dr^2}{1-kr^2}=c^2dt^2$"
   ]
  },
  {
   "cell_type": "markdown",
   "metadata": {},
   "source": [
    "Now integrate: $R_o\\int_0^{r_eh}\\frac{dr}{\\sqrt{1-kr^2}}=c\\int_t^\\infty e^{-H_ot}dt$"
   ]
  },
  {
   "cell_type": "markdown",
   "metadata": {},
   "source": [
    "The left-hand-side is a trig. integral of the form $\\int\\frac{dx}{\\sqrt{1-x^2}}=sin^{-1}x$"
   ]
  },
  {
   "cell_type": "markdown",
   "metadata": {},
   "source": [
    "So, $R_o\\frac{sin^{-1}(\\sqrt{k}r_{eh})}{\\sqrt{k}}=R_or_{eh}=-\\frac{c}{H_o}(e^{-\\infty}-e^{-H_ot}) \\Rightarrow \\boxed{r_{eh}=\\frac{c}{R_oH_o}e^{-H_ot}}$"
   ]
  },
  {
   "cell_type": "markdown",
   "metadata": {},
   "source": [
    " "
   ]
  },
  {
   "cell_type": "markdown",
   "metadata": {},
   "source": [
    "### b)"
   ]
  },
  {
   "cell_type": "markdown",
   "metadata": {},
   "source": [
    "Solving the previous solution for $t$: "
   ]
  },
  {
   "cell_type": "markdown",
   "metadata": {},
   "source": [
    "$ln(e^{-H_ot})=ln\\left( \\frac{R_or_{eh}H_o}{c} \\right) \\Rightarrow \\boxed{t=-\\frac{1}{H_o}ln\\left( \\frac{R_or_{eh}H_o}{c} \\right)}$"
   ]
  },
  {
   "cell_type": "markdown",
   "metadata": {},
   "source": [
    "Inserting constants and $R_or_{eh}=15 \\text{ Mpc}$, we have $\\boxed{t=79.0 \\text{ Gyr}}$"
   ]
  },
  {
   "cell_type": "markdown",
   "metadata": {},
   "source": [
    " "
   ]
  }
 ],
 "metadata": {
  "celltoolbar": "Raw Cell Format",
  "kernelspec": {
   "display_name": "Python 3",
   "language": "python",
   "name": "python3"
  },
  "language_info": {
   "codemirror_mode": {
    "name": "ipython",
    "version": 3
   },
   "file_extension": ".py",
   "mimetype": "text/x-python",
   "name": "python",
   "nbconvert_exporter": "python",
   "pygments_lexer": "ipython3",
   "version": "3.6.9"
  }
 },
 "nbformat": 4,
 "nbformat_minor": 4
}
