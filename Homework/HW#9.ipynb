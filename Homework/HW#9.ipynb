{
 "cells": [
  {
   "cell_type": "markdown",
   "metadata": {},
   "source": [
    "# Ast713: HW #9 by Cody Shakespeare"
   ]
  },
  {
   "cell_type": "markdown",
   "metadata": {},
   "source": [
    " "
   ]
  },
  {
   "cell_type": "markdown",
   "metadata": {},
   "source": [
    "## Chapter 8: Problems #3"
   ]
  },
  {
   "cell_type": "markdown",
   "metadata": {},
   "source": [
    " ### Problem 3:"
   ]
  },
  {
   "cell_type": "markdown",
   "metadata": {},
   "source": [
    "### a)"
   ]
  },
  {
   "cell_type": "markdown",
   "metadata": {},
   "source": [
    "The probability that a photon is absorbed is given by $P=n_e\\sigma_Tx$"
   ]
  },
  {
   "cell_type": "markdown",
   "metadata": {},
   "source": [
    "Knowing the mass of the cluster, we can expand the electron density into: $n_e=\\frac{N_e}{\\frac{4}{3}\\pi \\left(\\frac{x}{2}\\right)^3}$"
   ]
  },
  {
   "cell_type": "markdown",
   "metadata": {},
   "source": [
    "Where, assuming the proton mass dominates and $N_e=N_p$, we have $N_e=\\frac{M*0.15}{m_h}$"
   ]
  },
  {
   "cell_type": "markdown",
   "metadata": {},
   "source": [
    "Combining these equations, we have: $P=\\frac{3N_e\\sigma_Tx}{4\\pi \\frac{x^3}{8}}$"
   ]
  },
  {
   "cell_type": "markdown",
   "metadata": {},
   "source": [
    "Now, simplifying and solving for x produces $x=\\sqrt{\\frac{6N_e\\sigma_T}{\\pi P}} \\Rightarrow x=6.75e^22 \\text{m} \\Rightarrow \\boxed{x=2.19 \\text{Mpc}}$"
   ]
  },
  {
   "cell_type": "markdown",
   "metadata": {},
   "source": [
    "### b)"
   ]
  },
  {
   "cell_type": "markdown",
   "metadata": {},
   "source": [
    "$\\theta=\\frac{x}{d} \\Rightarrow d=\\frac{x}{\\theta} \\Rightarrow \\boxed{d=125 \\text{Mpc}}$"
   ]
  },
  {
   "cell_type": "markdown",
   "metadata": {},
   "source": [
    "### c)"
   ]
  },
  {
   "cell_type": "markdown",
   "metadata": {},
   "source": [
    "$H_o=\\frac{v}{d} \\Rightarrow \\boxed{67 \\text{km/s/Mpc}}$"
   ]
  },
  {
   "cell_type": "markdown",
   "metadata": {},
   "source": [
    " "
   ]
  },
  {
   "cell_type": "markdown",
   "metadata": {},
   "source": [
    "## Chapter 9: Problem #1,2"
   ]
  },
  {
   "cell_type": "markdown",
   "metadata": {},
   "source": [
    " ### Problem 1:"
   ]
  },
  {
   "cell_type": "markdown",
   "metadata": {},
   "source": [
    "As the hint suggests, light moves along null geodesics where $ds=0 \\Rightarrow ds^2=0=c^2dt^2-R(t)^2 \\frac{dr^2}{1-kr^2}$"
   ]
  },
  {
   "cell_type": "markdown",
   "metadata": {},
   "source": [
    "For the given cosmology of $k=0$, $R(t)=R_o\\left(\\frac{t}{t_o}\\right)^{2/3}$"
   ]
  },
  {
   "cell_type": "markdown",
   "metadata": {},
   "source": [
    "Inserting this into the geodesic equation and isolating variables, we have $R_o^2\\frac{dr^2}{1-kr^2}=c^2\\left(\\frac{t_o}{t}\\right)^{4/3}dt^2 \\Rightarrow R_o\\frac{dr}{\\sqrt{1-kr^2}}=c\\left(\\frac{t_o}{t}\\right)^{2/3}dt$"
   ]
  },
  {
   "cell_type": "markdown",
   "metadata": {},
   "source": [
    "Now, integrating: $R_o \\int_0^{r_h}\\frac{dr}{\\sqrt{1-kr^2}}=ct_o^{2/3}\\int_0^{t_o}t^{-2/3}dt$"
   ]
  },
  {
   "cell_type": "markdown",
   "metadata": {},
   "source": [
    "The LHS is a standard integral of the form $\\int\\frac{dx}{\\sqrt{1-x^2}}=sin^{-1}(x)$"
   ]
  },
  {
   "cell_type": "markdown",
   "metadata": {},
   "source": [
    "So we have, $R_o\\frac{sin^{-1}(\\sqrt{k}r_h)}{\\sqrt{k}}=ct_o^{2/3}3t_o^{1/3}$"
   ]
  },
  {
   "cell_type": "markdown",
   "metadata": {},
   "source": [
    "If $\\sqrt{k}r_h$ is small, then $sin^{-1}(\\sqrt{k}r_h)\\approx \\sqrt{k}r_h$"
   ]
  },
  {
   "cell_type": "markdown",
   "metadata": {},
   "source": [
    "Thus, we have $\\boxed{R_or_h=3ct_o}$"
   ]
  },
  {
   "cell_type": "markdown",
   "metadata": {},
   "source": [
    "The reason it is not simply $ct_o$, is because the universe has expanded while the particle horizon's light has been traveling."
   ]
  },
  {
   "cell_type": "markdown",
   "metadata": {},
   "source": [
    " "
   ]
  },
  {
   "cell_type": "markdown",
   "metadata": {},
   "source": [
    " ### Problem 2:"
   ]
  },
  {
   "cell_type": "markdown",
   "metadata": {},
   "source": [
    "As with the previous problem, $ds^2=0=c^2dt^2-R(t)^2 \\frac{dr^2}{1-kr^2} \\Rightarrow R_o^2e^{2H_ot}\\frac{dr^2}{1-kr^2}=c^2dt^2 \\Rightarrow R_o \\int_0^{r_h}\\frac{dr}{\\sqrt{1-kr^2}}=c\\int_0^{t_o}e^{-H_ot}dt$"
   ]
  },
  {
   "cell_type": "markdown",
   "metadata": {},
   "source": [
    "The LHS is the same integral as the previous problem so, $R_or_h=\\frac{-c}{H_o}(e^{-H_ot_o}-e^0) \\Rightarrow \\boxed{R_or_h=\\frac{c}{H_o}(1-e^{-H_ot_o})}$"
   ]
  },
  {
   "cell_type": "markdown",
   "metadata": {},
   "source": [
    "#### 1st Friedmann Equation:"
   ]
  },
  {
   "cell_type": "markdown",
   "metadata": {},
   "source": [
    "$\\left(\\frac{\\dot{R}}{R}\\right)^2=\\frac{8\\pi}{3}G\\rho-\\frac{kc^2}{R^2}$"
   ]
  },
  {
   "cell_type": "markdown",
   "metadata": {},
   "source": [
    "Here, $k=0$ and $\\dot{R}=H_oR_oe^{H_ot}$"
   ]
  },
  {
   "cell_type": "markdown",
   "metadata": {},
   "source": [
    "$\\Rightarrow \\left(\\frac{H_oR_oe^{H_ot}}{R_oe^{H_ot}}\\right)^2=\\frac{8\\pi}{3}G\\rho \\Rightarrow \\boxed{H_o^2=\\frac{8\\pi}{3}G\\rho}$"
   ]
  },
  {
   "cell_type": "markdown",
   "metadata": {},
   "source": [
    "#### 2nd Friedmann Equation:"
   ]
  },
  {
   "cell_type": "markdown",
   "metadata": {},
   "source": [
    "$\\frac{\\ddot{R}}{R}=-\\frac{4\\pi G}{3c^2}\\left(\\rho c^2+3P\\right)$"
   ]
  },
  {
   "cell_type": "markdown",
   "metadata": {},
   "source": [
    "Where $\\ddot{R}=H_o^2R_oe^{H_ot}$"
   ]
  },
  {
   "cell_type": "markdown",
   "metadata": {},
   "source": [
    "$\\Rightarrow H_o^2=-\\frac{4\\pi G\\rho}{3}-\\frac{4\\pi G P}{c^2} \\Rightarrow \\boxed{\\rho=-\\frac{P}{c^2}}$"
   ]
  },
  {
   "cell_type": "markdown",
   "metadata": {},
   "source": [
    "#### 3rd Friedmann Equation:"
   ]
  },
  {
   "cell_type": "markdown",
   "metadata": {},
   "source": [
    "$\\dot{\\rho}c^2=-3\\frac{\\dot{R}}{R}(\\rho c^2+P)$"
   ]
  },
  {
   "cell_type": "markdown",
   "metadata": {},
   "source": [
    "Plugging in $\\rho$ from above, $\\dot{\\rho}c^2=-3\\frac{\\dot{R}}{R}(-P+P) \\Rightarrow \\boxed{\\dot{\\rho}=0}$"
   ]
  },
  {
   "cell_type": "markdown",
   "metadata": {},
   "source": [
    " "
   ]
  }
 ],
 "metadata": {
  "celltoolbar": "Raw Cell Format",
  "kernelspec": {
   "display_name": "Python 3",
   "language": "python",
   "name": "python3"
  },
  "language_info": {
   "codemirror_mode": {
    "name": "ipython",
    "version": 3
   },
   "file_extension": ".py",
   "mimetype": "text/x-python",
   "name": "python",
   "nbconvert_exporter": "python",
   "pygments_lexer": "ipython3",
   "version": "3.6.9"
  }
 },
 "nbformat": 4,
 "nbformat_minor": 4
}
